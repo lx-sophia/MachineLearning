{
 "cells": [
  {
   "cell_type": "markdown",
   "metadata": {},
   "source": [
    "### 桔子还是橙子？\n",
    "\n",
    "识别水果是机器学习中既简单又常见的应用。\n",
    "\n",
    "观察桔子和橙子的外形发现：桔子果实较小，常为扁圆形，单果重量约45～135g，果皮橙红或朱红色；橙子果实较大，常为椭圆形，单果重量约115～225g，果皮橙黄色。\n",
    "\n",
    "这个数据集包括两个属性：\n",
    "* weight：重量，指的是单果重量\n",
    "* g-color：颜色，主要看偏红还是偏黄，所以只看G-绿色分量\n",
    "\n",
    "我们的最终目标是，根据参数值的特征，将水果分成两类。"
   ]
  },
  {
   "cell_type": "markdown",
   "metadata": {},
   "source": [
    "第一步，读取数据："
   ]
  },
  {
   "cell_type": "code",
   "execution_count": 1,
   "metadata": {},
   "outputs": [],
   "source": [
    "# 导入读文件需要的包\n",
    "import numpy as np\n",
    "\n",
    "# 以逗号为分隔符，从CSV文件读取数据，并转化为数组\n",
    "orange = np.loadtxt(open(\"orange.csv\"), delimiter = \",\") "
   ]
  },
  {
   "cell_type": "markdown",
   "metadata": {},
   "source": [
    "你可以把数据打印出来看看："
   ]
  },
  {
   "cell_type": "code",
   "execution_count": 2,
   "metadata": {},
   "outputs": [
    {
     "name": "stdout",
     "output_type": "stream",
     "text": [
      "[[ 67.  80.]\n",
      " [ 72.  80.]\n",
      " [118.  80.]\n",
      " [ 76.  81.]\n",
      " [ 79.  81.]\n",
      " [124.  81.]\n",
      " [125.  81.]\n",
      " [ 66.  83.]\n",
      " [ 99.  83.]\n",
      " [103.  85.]\n",
      " [116.  85.]\n",
      " [120.  85.]\n",
      " [110.  86.]\n",
      " [124.  86.]\n",
      " [110.  87.]\n",
      " [ 54.  88.]\n",
      " [ 63.  88.]\n",
      " [ 65.  88.]\n",
      " [ 68.  88.]\n",
      " [ 94.  88.]\n",
      " [ 70.  89.]\n",
      " [ 83.  89.]\n",
      " [119.  91.]\n",
      " [122.  91.]\n",
      " [ 74.  92.]\n",
      " [117.  92.]\n",
      " [126.  92.]\n",
      " [130.  92.]\n",
      " [ 69.  93.]\n",
      " [ 90.  93.]\n",
      " [ 87.  94.]\n",
      " [118.  94.]\n",
      " [ 79.  95.]\n",
      " [ 96.  95.]\n",
      " [101.  95.]\n",
      " [ 94.  96.]\n",
      " [ 85.  97.]\n",
      " [ 99.  97.]\n",
      " [120.  97.]\n",
      " [123.  97.]\n",
      " [ 65.  98.]\n",
      " [ 93.  99.]\n",
      " [ 79. 100.]\n",
      " [ 85. 100.]\n",
      " [ 95. 100.]\n",
      " [113. 100.]\n",
      " [ 99. 101.]\n",
      " [101. 101.]\n",
      " [110. 101.]\n",
      " [ 65. 102.]\n",
      " [133. 102.]\n",
      " [126. 103.]\n",
      " [129. 103.]\n",
      " [134. 105.]\n",
      " [ 47. 106.]\n",
      " [106. 106.]\n",
      " [ 71. 107.]\n",
      " [123. 107.]\n",
      " [124. 107.]\n",
      " [ 59. 108.]\n",
      " [ 67. 108.]\n",
      " [120. 108.]\n",
      " [ 56. 109.]\n",
      " [ 92. 109.]\n",
      " [132. 109.]\n",
      " [ 94. 111.]\n",
      " [113. 111.]\n",
      " [ 68. 112.]\n",
      " [105. 113.]\n",
      " [128. 113.]\n",
      " [128. 113.]\n",
      " [128. 114.]\n",
      " [132. 114.]\n",
      " [ 62. 115.]\n",
      " [ 67. 115.]\n",
      " [ 89. 115.]\n",
      " [ 46. 116.]\n",
      " [ 61. 116.]\n",
      " [105. 116.]\n",
      " [116. 116.]\n",
      " [202. 116.]\n",
      " [123. 117.]\n",
      " [ 94. 118.]\n",
      " [126. 119.]\n",
      " [175. 119.]\n",
      " [178. 119.]\n",
      " [196. 119.]\n",
      " [ 61. 120.]\n",
      " [ 76. 120.]\n",
      " [ 87. 120.]\n",
      " [123. 120.]\n",
      " [183. 120.]\n",
      " [188. 120.]\n",
      " [203. 120.]\n",
      " [ 46. 121.]\n",
      " [124. 121.]\n",
      " [147. 101.]\n",
      " [178. 121.]\n",
      " [181. 121.]\n",
      " [ 51. 122.]\n",
      " [191. 122.]\n",
      " [ 60. 123.]\n",
      " [180. 123.]\n",
      " [ 83. 124.]\n",
      " [130. 124.]\n",
      " [145. 124.]\n",
      " [171. 124.]\n",
      " [ 81. 125.]\n",
      " [119. 125.]\n",
      " [221. 125.]\n",
      " [ 74. 126.]\n",
      " [102. 126.]\n",
      " [147. 126.]\n",
      " [112. 127.]\n",
      " [131. 127.]\n",
      " [191. 127.]\n",
      " [182. 128.]\n",
      " [ 80. 129.]\n",
      " [ 96. 129.]\n",
      " [114. 129.]\n",
      " [122. 129.]\n",
      " [194. 129.]\n",
      " [193. 130.]\n",
      " [221. 130.]\n",
      " [ 72. 131.]\n",
      " [164. 132.]\n",
      " [167. 132.]\n",
      " [197. 132.]\n",
      " [129. 133.]\n",
      " [195. 133.]\n",
      " [217. 133.]\n",
      " [117. 134.]\n",
      " [144. 135.]\n",
      " [171. 135.]\n",
      " [168. 136.]\n",
      " [168. 136.]\n",
      " [217. 137.]\n",
      " [155. 138.]\n",
      " [148. 139.]\n",
      " [176. 143.]\n",
      " [184. 145.]\n",
      " [108.  86.]\n",
      " [137. 147.]\n",
      " [150. 147.]\n",
      " [194. 147.]\n",
      " [207. 147.]\n",
      " [138. 148.]\n",
      " [191. 148.]\n",
      " [225. 150.]\n",
      " [139. 153.]\n",
      " [151. 153.]\n",
      " [174. 153.]\n",
      " [193. 153.]\n",
      " [191. 154.]\n",
      " [135. 155.]\n",
      " [216. 155.]\n",
      " [194. 159.]\n",
      " [202. 160.]\n",
      " [152. 161.]\n",
      " [168. 161.]\n",
      " [173. 161.]\n",
      " [181. 161.]\n",
      " [204. 161.]\n",
      " [212. 162.]\n",
      " [224. 162.]\n",
      " [122. 163.]\n",
      " [129. 163.]\n",
      " [148. 163.]\n",
      " [163. 164.]\n",
      " [131. 165.]\n",
      " [165. 165.]\n",
      " [215. 165.]\n",
      " [123. 166.]\n",
      " [175. 166.]\n",
      " [201. 166.]\n",
      " [154. 167.]\n",
      " [166. 169.]\n",
      " [183. 169.]\n",
      " [196. 170.]\n",
      " [217. 170.]\n",
      " [183. 171.]\n",
      " [172. 172.]\n",
      " [133. 173.]\n",
      " [184. 173.]\n",
      " [208. 173.]\n",
      " [132. 174.]\n",
      " [174. 174.]\n",
      " [208. 174.]\n",
      " [130. 175.]\n",
      " [187. 175.]\n",
      " [209. 175.]\n",
      " [129. 176.]\n",
      " [160. 176.]\n",
      " [202. 176.]\n",
      " [150. 177.]\n",
      " [152. 178.]\n",
      " [169. 179.]\n",
      " [134. 180.]\n",
      " [145. 180.]\n",
      " [151. 180.]]\n"
     ]
    }
   ],
   "source": [
    "print(orange)"
   ]
  },
  {
   "cell_type": "markdown",
   "metadata": {},
   "source": [
    "第二步，处理数据并选择模型进行学习："
   ]
  },
  {
   "cell_type": "code",
   "execution_count": 2,
   "metadata": {},
   "outputs": [],
   "source": [
    "# 导入机器学习需要的模型，这里使用的是高斯混合模型\n",
    "from sklearn.mixture import GaussianMixture\n",
    "\n",
    "# 设置参数，初始化模型，参数表示将数据分为2类\n",
    "model = GaussianMixture(n_components = 2)\n",
    "# 训练模型\n",
    "model.fit(orange)\n",
    "# 预测类标签\n",
    "predict = model.predict(orange)"
   ]
  },
  {
   "cell_type": "markdown",
   "metadata": {},
   "source": [
    "预测结果也可以打印出来看看："
   ]
  },
  {
   "cell_type": "code",
   "execution_count": 4,
   "metadata": {},
   "outputs": [
    {
     "name": "stdout",
     "output_type": "stream",
     "text": [
      "[0 0 0 0 0 0 0 0 0 0 0 0 0 0 0 0 0 0 0 0 0 0 0 0 0 0 0 0 0 0 0 0 0 0 0 0 0\n",
      " 0 0 0 0 0 0 0 0 0 0 0 0 0 0 0 0 0 0 0 0 0 0 0 0 0 0 0 0 0 0 0 0 0 0 0 0 0\n",
      " 0 0 0 0 0 0 0 0 0 0 0 0 0 0 0 0 0 0 0 0 0 0 0 0 0 0 1 1 1 1 1 0 1 1 1 1 1\n",
      " 1 1 1 1 1 1 1 1 1 1 1 1 1 1 1 1 1 1 1 1 1 1 1 1 1 1 1 1 1 1 1 1 1 1 1 1 1\n",
      " 1 1 1 1 0 1 1 1 1 1 1 1 1 1 1 1 1 1 1 1 1 1 1 1 1 1 1 1 1 1 1 1 1 1 1 1 1\n",
      " 1 1 1 1 1 1 1 1 1 0 1 1 1 1 1]\n"
     ]
    }
   ],
   "source": [
    "print(predict)"
   ]
  },
  {
   "cell_type": "markdown",
   "metadata": {},
   "source": [
    "第三步，以图表形式查看结果："
   ]
  },
  {
   "cell_type": "code",
   "execution_count": 4,
   "metadata": {},
   "outputs": [
    {
     "data": {
      "image/png": "[encoded data removed]",
      "text/plain": [
       "<Figure size 432x288 with 1 Axes>"
      ]
     },
     "metadata": {
      "needs_background": "light"
     },
     "output_type": "display_data"
    }
   ],
   "source": [
    "# 导入绘图需要的包\n",
    "import matplotlib.pyplot as plt\n",
    "\n",
    "# 将数据按类标签的值拆成2组\n",
    "x0 = orange[predict == 0]\n",
    "x1 = orange[predict == 1]\n",
    "# 指定每一类数据的颜色和图例名称\n",
    "plt.scatter(x0[:, 0], x0[:, 1], c = \"steelblue\", label = \"0\")\n",
    "plt.scatter(x1[:, 0], x1[:, 1], c = \"orange\", label = \"1\")\n",
    "# 设置坐标标签和文字大小\n",
    "plt.xlabel(\"Weight\", fontsize = 14)\n",
    "plt.ylabel(\"G-color\", fontsize = 14)\n",
    "# 加上图例\n",
    "plt.legend(loc = 2)\n",
    "# 显示结果\n",
    "plt.show()"
   ]
  },
  {
   "cell_type": "markdown",
   "metadata": {},
   "source": [
    "观察图中的数据特征，结合两种水果的特征可以确定，蓝色图例\"0\"对应的数据是桔子，橙色图例\"1\"对应的数据是橙子。\n",
    "\n",
    "最后，我们可以输入数据，让机器判断是桔子还是橙子："
   ]
  },
  {
   "cell_type": "code",
   "execution_count": 5,
   "metadata": {},
   "outputs": [
    {
     "name": "stdout",
     "output_type": "stream",
     "text": [
      "单果重量：180\n",
      "绿色分量：150\n",
      "橙子\n"
     ]
    }
   ],
   "source": [
    "# 接收输入，并存入数组\n",
    "x,k = [],[]\n",
    "k.append(float(input(\"单果重量：\")))\n",
    "k.append(int(input(\"绿色分量：\")))\n",
    "x.append(k)\n",
    "# 用模型预测结果\n",
    "y = model.predict(x)\n",
    "# 输出预测的结果\n",
    "print(\"桔子\") if y == [0] else print(\"橙子\")"
   ]
  },
  {
   "cell_type": "code",
   "execution_count": null,
   "metadata": {},
   "outputs": [],
   "source": []
  }
 ],
 "metadata": {
  "kernelspec": {
   "display_name": "Python 3",
   "language": "python",
   "name": "python3"
  },
  "language_info": {
   "codemirror_mode": {
    "name": "ipython",
    "version": 3
   },
   "file_extension": ".py",
   "mimetype": "text/x-python",
   "name": "python",
   "nbconvert_exporter": "python",
   "pygments_lexer": "ipython3",
   "version": "3.5.2"
  },
  "pycharm": {
   "stem_cell": {
    "cell_type": "raw",
    "metadata": {
     "collapsed": false
    },
    "source": []
   }
  }
 },
 "nbformat": 4,
 "nbformat_minor": 2
}
